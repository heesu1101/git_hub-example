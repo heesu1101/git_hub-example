{
 "cells": [
  {
   "cell_type": "markdown",
   "metadata": {},
   "source": [
    "# Battle of Neighborhoods_Week1"
   ]
  },
  {
   "cell_type": "markdown",
   "metadata": {},
   "source": [
    "### Queens, NY"
   ]
  },
  {
   "cell_type": "markdown",
   "metadata": {},
   "source": [
    "#### 1. Description of the problem"
   ]
  },
  {
   "cell_type": "markdown",
   "metadata": {},
   "source": [
    "People tend to search the places before visiting a new country, state, city or place for their work. Moreover, if they are going to migrate completely, an analysis of their neighborhood is essential. To meet these needs, we usually need a search algorithm that returns the requested function, such as crime rate, average house price, population percentage, school grade, weather conditions, Distribution of restaurants, etc. It’d be nice to make a convenient program that allow us to analyze all of these features for a neighborhood or a comparative analysis between neighborhoods with just sending out the names of the neighborhoods.\n",
    "\n",
    "The project is designed to help people get rid of this hassle and do more productive activities in save time.\n",
    "This project would help people to take a better decision on choosing the best neighborhood out of many neighborhoods to build/buy their houses in Seoul based on the distribution of various facilities in and around that neighborhood.\n",
    "\n",
    "This project uses K-mean clustering algorithm to cluster the venues based on the place category such as restaurants, gym, park, etc. This would give a better understanding of the similarities and dissimilarities between the two chosen neighborhoods to retrieve more insights and to conclude with ease which neighborhood wins over other."
   ]
  },
  {
   "cell_type": "markdown",
   "metadata": {},
   "source": [
    "#### 2. Description of the data"
   ]
  },
  {
   "cell_type": "markdown",
   "metadata": {},
   "source": [
    "In this project,we need the location information of New York City ,which contains list Boroughs, Neighborhoods along with their latitude and longitude. Moreover, we can use Four-square API as its prime data gathering source. In particular, it provides a places API to do location searches and business details. Photos, tips and reviews taken by Foursquare users can be used in many productive ways."
   ]
  },
  {
   "cell_type": "markdown",
   "metadata": {},
   "source": [
    "#### 3. Methodology"
   ]
  },
  {
   "cell_type": "markdown",
   "metadata": {},
   "source": [
    "  __(1)__ We collect the new york city data from https://cocl.us/new_york_dataset\n",
    "\n",
    "__(2)__ To get the longitude and latitude, we use zip codes of the Seoul neighborhoods and make requests to Foursquare API server.\n",
    "\n",
    "__(3)__ We use Folium to display the neighborhoods cluster distribution of Seoul on the map.\n",
    "\n",
    "__(4)__ We use Pandas, NumPy, and Scikit-learn to perform comparative analysis on two randomly picked neighborhoods to derive the desirable insight from the results.\n",
    "\n",
    "__(5)__ K-mean algorithm is applied to form clusters of different categories of places residing in neighborhoods. Each cluster in the two selected neighborhoods will be analyzed collectively to draw conclusions."
   ]
  },
  {
   "cell_type": "code",
   "execution_count": null,
   "metadata": {},
   "outputs": [],
   "source": []
  }
 ],
 "metadata": {
  "kernelspec": {
   "display_name": "Python 3",
   "language": "python",
   "name": "python3"
  },
  "language_info": {
   "codemirror_mode": {
    "name": "ipython",
    "version": 3
   },
   "file_extension": ".py",
   "mimetype": "text/x-python",
   "name": "python",
   "nbconvert_exporter": "python",
   "pygments_lexer": "ipython3",
   "version": "3.7.4"
  }
 },
 "nbformat": 4,
 "nbformat_minor": 2
}
